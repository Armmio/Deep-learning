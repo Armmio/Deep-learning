{
 "cells": [
  {
   "cell_type": "markdown",
   "metadata": {},
   "source": [
    "sun for imdb prediction"
   ]
  },
  {
   "cell_type": "code",
   "execution_count": 2,
   "metadata": {},
   "outputs": [
    {
     "name": "stdout",
     "output_type": "stream",
     "text": [
      "[1, 14, 22, 16, 43, 530, 973, 1622, 1385, 65, 458, 4468, 66, 3941, 4, 173, 36, 256, 5, 25, 100, 43, 838, 112, 50, 670, 2, 9, 35, 480, 284, 5, 150, 4, 172, 112, 167, 2, 336, 385, 39, 4, 172, 4536, 1111, 17, 546, 38, 13, 447, 4, 192, 50, 16, 6, 147, 2025, 19, 14, 22, 4, 1920, 4613, 469, 4, 22, 71, 87, 12, 16, 43, 530, 38, 76, 15, 13, 1247, 4, 22, 17, 515, 17, 12, 16, 626, 18, 2, 5, 62, 386, 12, 8, 316, 8, 106, 5, 4, 2223, 5244, 16, 480, 66, 3785, 33, 4, 130, 12, 16, 38, 619, 5, 25, 124, 51, 36, 135, 48, 25, 1415, 33, 6, 22, 12, 215, 28, 77, 52, 5, 14, 407, 16, 82, 2, 8, 4, 107, 117, 5952, 15, 256, 4, 2, 7, 3766, 5, 723, 36, 71, 43, 530, 476, 26, 400, 317, 46, 7, 4, 2, 1029, 13, 104, 88, 4, 381, 15, 297, 98, 32, 2071, 56, 26, 141, 6, 194, 7486, 18, 4, 226, 22, 21, 134, 476, 26, 480, 5, 144, 30, 5535, 18, 51, 36, 28, 224, 92, 25, 104, 4, 226, 65, 16, 38, 1334, 88, 12, 16, 283, 5, 16, 4472, 113, 103, 32, 15, 16, 5345, 19, 178, 32]\n",
      "1\n",
      "\n",
      "\n",
      "An encoded sample:\n",
      "[0. 1. 1. ... 0. 0. 0.]\n"
     ]
    }
   ],
   "source": [
    "import tensorflow as tf\n",
    "import numpy as np\n",
    "\n",
    "(train_data, train_labels), (test_data, test_labels) = tf.keras.datasets.imdb.load_data(num_words=10000)\n",
    "print(train_data[0])\n",
    "print(train_labels[0])\n",
    "\n",
    "# Encoding the integer sequences into a binary matrix\n",
    "def vectorize_sequences(sequences, dimension=10000):\n",
    "    # create an all-zero matrix of shape (len(sequences), dimension)\n",
    "    results = np.zeros((len(sequences), dimension))\n",
    "    for i, sequence in enumerate(sequences):\n",
    "        results[i, sequence] = 1.  # set specific indices of results[i] to 1s\n",
    "    return results\n",
    "\n",
    "# Our vectorized training data\n",
    "x_train = vectorize_sequences(train_data)\n",
    "# Our vectorized test data\n",
    "x_test = vectorize_sequences(test_data)\n",
    "\n",
    "print('\\n\\nAn encoded sample:')\n",
    "print(x_train[0])\n",
    "\n",
    "# Encoding the labels\n",
    "# Our vectorized labels\n",
    "y_train = np.asarray(train_labels).astype('float32')\n",
    "y_test = np.asarray(test_labels).astype('float32')"
   ]
  },
  {
   "cell_type": "code",
   "execution_count": 3,
   "metadata": {},
   "outputs": [],
   "source": [
    "# model definition\n",
    "model = tf.keras.models.Sequential()\n",
    "model.add(tf.keras.layers.Dense(16, activation='relu', input_shape=(10000, )))\n",
    "model.add(tf.keras.layers.Dense(16, activation='relu'))\n",
    "model.add(tf.keras.layers.Dense(1, activation='sigmoid'))"
   ]
  },
  {
   "cell_type": "code",
   "execution_count": 4,
   "metadata": {},
   "outputs": [],
   "source": [
    "# compile() configure model optimizer, loss function and metrics\n",
    "model.compile(optimizer=tf.keras.optimizers.RMSprop(lr=0.001),\n",
    "              loss='binary_crossentropy',\n",
    "              metrics=['accuracy'])"
   ]
  },
  {
   "cell_type": "code",
   "execution_count": 5,
   "metadata": {},
   "outputs": [],
   "source": [
    "#IMDB dataset: total items 50000, part 25000 are used as train dataset and part 25000 as test dataset\n",
    "x_val = x_train[:10000]\n",
    "partial_x_train = x_train[10000:]\n",
    "\n",
    "y_val = y_train[:10000]\n",
    "partial_y_train = y_train[10000:]"
   ]
  },
  {
   "cell_type": "code",
   "execution_count": 6,
   "metadata": {},
   "outputs": [
    {
     "name": "stdout",
     "output_type": "stream",
     "text": [
      "Train on 15000 samples, validate on 10000 samples\n",
      "Epoch 1/20\n",
      "15000/15000 [==============================] - 3s 169us/sample - loss: 0.5057 - accuracy: 0.7973 - val_loss: 0.3763 - val_accuracy: 0.8748\n",
      "Epoch 2/20\n",
      "15000/15000 [==============================] - 1s 88us/sample - loss: 0.2999 - accuracy: 0.9037 - val_loss: 0.3354 - val_accuracy: 0.8632\n",
      "Epoch 3/20\n",
      "15000/15000 [==============================] - 1s 87us/sample - loss: 0.2239 - accuracy: 0.9271 - val_loss: 0.2808 - val_accuracy: 0.8898\n",
      "Epoch 4/20\n",
      "15000/15000 [==============================] - 2s 103us/sample - loss: 0.1784 - accuracy: 0.9423 - val_loss: 0.2898 - val_accuracy: 0.8837\n",
      "Epoch 5/20\n",
      "15000/15000 [==============================] - 1s 85us/sample - loss: 0.1423 - accuracy: 0.9533 - val_loss: 0.2811 - val_accuracy: 0.8891\n",
      "Epoch 6/20\n",
      "15000/15000 [==============================] - 1s 84us/sample - loss: 0.1173 - accuracy: 0.9625 - val_loss: 0.2937 - val_accuracy: 0.8860\n",
      "Epoch 7/20\n",
      "15000/15000 [==============================] - 1s 83us/sample - loss: 0.0978 - accuracy: 0.9701 - val_loss: 0.3113 - val_accuracy: 0.8857\n",
      "Epoch 8/20\n",
      "15000/15000 [==============================] - 1s 85us/sample - loss: 0.0845 - accuracy: 0.9740 - val_loss: 0.3336 - val_accuracy: 0.8769\n",
      "Epoch 9/20\n",
      "15000/15000 [==============================] - 1s 83us/sample - loss: 0.0705 - accuracy: 0.9811 - val_loss: 0.3581 - val_accuracy: 0.8787\n",
      "Epoch 10/20\n",
      "15000/15000 [==============================] - 1s 84us/sample - loss: 0.0553 - accuracy: 0.9873 - val_loss: 0.4090 - val_accuracy: 0.8724\n",
      "Epoch 11/20\n",
      "15000/15000 [==============================] - 1s 82us/sample - loss: 0.0469 - accuracy: 0.9889 - val_loss: 0.3996 - val_accuracy: 0.8767\n",
      "Epoch 12/20\n",
      "15000/15000 [==============================] - 1s 82us/sample - loss: 0.0396 - accuracy: 0.9905 - val_loss: 0.4773 - val_accuracy: 0.8682\n",
      "Epoch 13/20\n",
      "15000/15000 [==============================] - 1s 83us/sample - loss: 0.0331 - accuracy: 0.9928 - val_loss: 0.4598 - val_accuracy: 0.8688\n",
      "Epoch 14/20\n",
      "15000/15000 [==============================] - 1s 82us/sample - loss: 0.0251 - accuracy: 0.9952 - val_loss: 0.5017 - val_accuracy: 0.8651\n",
      "Epoch 15/20\n",
      "15000/15000 [==============================] - 1s 83us/sample - loss: 0.0214 - accuracy: 0.9964 - val_loss: 0.5181 - val_accuracy: 0.8697\n",
      "Epoch 16/20\n",
      "15000/15000 [==============================] - 1s 95us/sample - loss: 0.0179 - accuracy: 0.9975 - val_loss: 0.5430 - val_accuracy: 0.8684\n",
      "Epoch 17/20\n",
      "15000/15000 [==============================] - 1s 83us/sample - loss: 0.0141 - accuracy: 0.9977 - val_loss: 0.5963 - val_accuracy: 0.8634\n",
      "Epoch 18/20\n",
      "15000/15000 [==============================] - 1s 86us/sample - loss: 0.0108 - accuracy: 0.9985 - val_loss: 0.6092 - val_accuracy: 0.8658\n",
      "Epoch 19/20\n",
      "15000/15000 [==============================] - 1s 82us/sample - loss: 0.0066 - accuracy: 0.9996 - val_loss: 0.7098 - val_accuracy: 0.8537\n",
      "Epoch 20/20\n",
      "15000/15000 [==============================] - 1s 94us/sample - loss: 0.0072 - accuracy: 0.9990 - val_loss: 0.6873 - val_accuracy: 0.8674\n"
     ]
    }
   ],
   "source": [
    "# Training model\n",
    "history = model.fit(partial_x_train,\n",
    "                    partial_y_train,\n",
    "                    epochs=20,\n",
    "                    batch_size=512,\n",
    "                    validation_data=(x_val, y_val))"
   ]
  },
  {
   "cell_type": "code",
   "execution_count": 7,
   "metadata": {},
   "outputs": [
    {
     "name": "stdout",
     "output_type": "stream",
     "text": [
      "dict_keys(['loss', 'accuracy', 'val_loss', 'val_accuracy'])\n"
     ]
    }
   ],
   "source": [
    "# the history dictionary\n",
    "history_dict = history.history\n",
    "print(history_dict.keys())"
   ]
  },
  {
   "cell_type": "code",
   "execution_count": 8,
   "metadata": {},
   "outputs": [
    {
     "data": {
      "image/png": "[encoded data removed]",
      "text/plain": [
       "<Figure size 432x288 with 1 Axes>"
      ]
     },
     "metadata": {
      "needs_background": "light"
     },
     "output_type": "display_data"
    }
   ],
   "source": [
    "# Plotting the training and balidation accuracy\n",
    "import matplotlib.pyplot as plt\n",
    "\n",
    "accuracy = history.history['accuracy']\n",
    "val_accuracy = history.history['val_accuracy']\n",
    "loss = history.history['loss']\n",
    "val_loss = history.history['val_loss']\n",
    "\n",
    "epochs = range(1, len(accuracy)+1)\n",
    "\n",
    "# 'bo' is for 'blue dot'\n",
    "plt.plot(epochs, loss, 'bo', label='Training loss')\n",
    "# b is for 'solid bule line'\n",
    "plt.plot(epochs, val_loss, 'b', label='Validation loss')\n",
    "plt.title('Training and validation loss')\n",
    "plt.xlabel('Epochs')\n",
    "plt.ylabel('Loss')\n",
    "plt.legend()\n",
    "plt.show()"
   ]
  },
  {
   "cell_type": "code",
   "execution_count": 9,
   "metadata": {},
   "outputs": [
    {
     "data": {
      "image/png": "[encoded data removed]",
      "text/plain": [
       "<Figure size 432x288 with 1 Axes>"
      ]
     },
     "metadata": {
      "needs_background": "light"
     },
     "output_type": "display_data"
    }
   ],
   "source": [
    "plt.clf()  # clear figure\n",
    "acc_values = history_dict['accuracy']\n",
    "val_acc_values = history_dict['val_accuracy']\n",
    "\n",
    "plt.plot(epochs, accuracy, 'bo', label='Training acc')\n",
    "plt.plot(epochs, val_accuracy, 'b', label = 'Validation acc')\n",
    "plt.title('Training and validation accuracy')\n",
    "plt.xlabel('Epochs')\n",
    "plt.ylabel('loss')\n",
    "plt.legend()\n",
    "\n",
    "plt.show()"
   ]
  },
  {
   "cell_type": "code",
   "execution_count": 16,
   "metadata": {},
   "outputs": [
    {
     "name": "stdout",
     "output_type": "stream",
     "text": [
      "type(x_test) <class 'numpy.ndarray'>\n",
      "[[0.01282614]\n",
      " [1.        ]\n",
      " [0.99946785]\n",
      " ...\n",
      " [0.00322399]\n",
      " [0.04243961]\n",
      " [0.89094466]]\n"
     ]
    },
    {
     "data": {
      "image/png": "[encoded data removed]",
      "text/plain": [
       "<Figure size 432x288 with 1 Axes>"
      ]
     },
     "metadata": {
      "needs_background": "light"
     },
     "output_type": "display_data"
    }
   ],
   "source": [
    "print('type(x_test)', type(x_test))\n",
    "prdict_array = model.predict(x_test)\n",
    "print(prdict_array)\n",
    "plt.plot(range(1, len(prdict_array)+1), prdict_array, 'red', label='Prediction')\n",
    "plt.legend()\n",
    "plt.show()"
   ]
  },
  {
   "cell_type": "code",
   "execution_count": null,
   "metadata": {},
   "outputs": [],
   "source": []
  }
 ],
 "metadata": {
  "kernelspec": {
   "display_name": "Python 3",
   "language": "python",
   "name": "python3"
  },
  "language_info": {
   "codemirror_mode": {
    "name": "ipython",
    "version": 3
   },
   "file_extension": ".py",
   "mimetype": "text/x-python",
   "name": "python",
   "nbconvert_exporter": "python",
   "pygments_lexer": "ipython3",
   "version": "3.7.6"
  }
 },
 "nbformat": 4,
 "nbformat_minor": 4
}
