{
 "cells": [
  {
   "cell_type": "code",
   "execution_count": 4,
   "metadata": {},
   "outputs": [],
   "source": [
    "# copying images to train, validation and test directories\n",
    "import os, shutil\n",
    "\n",
    "# The path to the directory where the original dataset was uncompressed\n",
    "original_dataset_dir = 'D:\\B__WorkSpace\\AI\\dl_project_cnn\\kagglecatsanddogs_3367a\\PetImages'\n",
    "\n",
    "# The directory where will store smaller dataset\n",
    "base_dir = 'D:\\B__WorkSpace\\AI\\dl_project_cnn\\kagglecatsanddogs_small'\n",
    "if not os.path.exists(base_dir):\n",
    "    os.mkdir(base_dir)\n",
    "else:\n",
    "    print('\\n', base_dir, 'has been created!')\n",
    "\n",
    "# Directories for training, validation and test splits\n",
    "train_dir = os.path.join(base_dir, 'train')\n",
    "if not os.path.exists(train_dir):\n",
    "    os.mkdir(train_dir)\n",
    "else:\n",
    "    print('\\n', train_dir, 'has been created!')\n",
    "validation_dir = os.path.join(base_dir, 'validation')\n",
    "if not os.path.exists(validation_dir):\n",
    "    os.mkdir(validation_dir)\n",
    "else:\n",
    "    print('\\n', validation_dir, 'has been created!')\n",
    "test_dir = os.path.join(base_dir, 'test')\n",
    "if not os.path.exists(test_dir):\n",
    "    os.mkdir(test_dir)\n",
    "else:\n",
    "    print('\\n', test_dir, 'has been created!')\n",
    "\n",
    "# Directory with our training cat pictures\n",
    "train_cats_dir = os.path.join(train_dir, 'cats')\n",
    "if not os.path.exists(train_cats_dir):\n",
    "    os.mkdir(train_cats_dir)\n",
    "else:\n",
    "    print('\\n', train_cats_dir, 'has been created!')\n",
    "\n",
    "# Directory with our training dog pictures\n",
    "train_dogs_dir = os.path.join(train_dir, 'dogs')\n",
    "if not os.path.exists(train_dogs_dir):\n",
    "    os.mkdir(train_dogs_dir)\n",
    "else:\n",
    "    print('\\n', train_dogs_dir, 'has been created!')\n",
    "\n",
    "# Dictory with our validation cat pictures\n",
    "validation_cats_dir = os.path.join(validation_dir, 'cats')\n",
    "if not os.path.exists(validation_cats_dir):\n",
    "    os.mkdir(validation_cats_dir)\n",
    "else:\n",
    "    print('\\n', validation_cats_dir, 'has been created!')\n",
    "\n",
    "# Directory with our validation dog pictures\n",
    "validation_dogs_dir = os.path.join(validation_dir, 'dogs')\n",
    "if not os.path.exists(validation_dogs_dir):\n",
    "    os.mkdir(validation_dogs_dir)\n",
    "else:\n",
    "    print('\\n', validation_dogs_dir, 'has been created!')\n",
    "\n",
    "# Directory with our validation cat pictures\n",
    "test_cats_dir = os.path.join(test_dir, 'cats')\n",
    "if not os.path.exists(test_cats_dir):\n",
    "    os.mkdir(test_cats_dir)\n",
    "else:\n",
    "    print('\\n', test_cats_dir, 'has been created!')\n",
    "\n",
    "# Directory with our validation dog pictures\n",
    "test_dogs_dir = os.path.join(test_dir, 'dogs')\n",
    "if not os.path.exists(test_dogs_dir):\n",
    "    os.mkdir(test_dogs_dir)\n",
    "else:\n",
    "    print('\\n', test_dogs_dir, 'has been created!')\n",
    "\n",
    "# Copy first 1000 cat images to train_cats_dir\n",
    "fnames = ['Cat\\{}.jpg'.format(i) for i in range(1000)]\n",
    "dst_cat_names = ['cat.{}.jpg'.format(i) for i in range(1000)]\n",
    "for fname, dst_cat_name in zip(fnames, dst_cat_names):\n",
    "    src = os.path.join(original_dataset_dir, fname)\n",
    "    dst = os.path.join(train_cats_dir, dst_cat_name)\n",
    "    if not os.path.exists(dst):\n",
    "        shutil.copyfile(src, dst)\n",
    "\n",
    "# Copy next 500 cat images to validation_cats_dir\n",
    "fnames = ['Cat\\{}.jpg'.format(i) for i in range(1000, 1500)]\n",
    "dst_cat_names = ['cat.{}.jpg'.format(i) for i in range(1000, 1500)]\n",
    "for fname, dst_cat_name in zip(fnames, dst_cat_names):\n",
    "    src = os.path.join(original_dataset_dir, fname)\n",
    "    dst = os.path.join(validation_cats_dir, dst_cat_name)\n",
    "    if not os.path.exists(dst):\n",
    "        shutil.copyfile(src, dst)\n",
    "\n",
    "# Copy next 500 cat images to test_cats_dir\n",
    "fnames = ['Cat\\{}.jpg'.format(i) for i in range(1500, 2000)]\n",
    "dst_cat_names = ['cat.{}.jpg'.format(i) for i in range(1500, 2000)]\n",
    "for fname, dst_cat_name in zip(fnames, dst_cat_names):\n",
    "    src = os.path.join(original_dataset_dir, fname)\n",
    "    dst = os.path.join(test_cats_dir, dst_cat_name)\n",
    "    if not os.path.exists(dst):\n",
    "        shutil.copyfile(src, dst)\n",
    "\n",
    "# Copy first 1000 dog images to train_dogs_dir\n",
    "fnames = ['Dog\\{}.jpg'.format(i) for i in range(1000)]\n",
    "dst_cat_names = ['dog.{}.jpg'.format(i) for i in range(1000)]\n",
    "for fname, dst_cat_name in zip(fnames, dst_cat_names):\n",
    "    src = os.path.join(original_dataset_dir, fname)\n",
    "    dst = os.path.join(train_dogs_dir, dst_cat_name)\n",
    "    if not os.path.exists(dst):\n",
    "        shutil.copyfile(src, dst)\n",
    "\n",
    "# Copy next 500 dog images to validation_dogs_dir\n",
    "fnames = ['Dog\\{}.jpg'.format(i) for i in range(1000, 1500)]\n",
    "dst_cat_names = ['dog.{}.jpg'.format(i) for i in range(1000, 1500)]\n",
    "for fname, dst_cat_name in zip(fnames, dst_cat_names):\n",
    "    src = os.path.join(original_dataset_dir, fname)\n",
    "    dst = os.path.join(validation_dogs_dir, dst_cat_name)\n",
    "    if not os.path.exists(dst):\n",
    "        shutil.copyfile(src, dst)\n",
    "\n",
    "# Copy next 500 dog images to test_dogs_dir\n",
    "fnames = ['Dog\\{}.jpg'.format(i) for i in range(1500, 2000)]\n",
    "dst_cat_names = ['dog.{}.jpg'.format(i) for i in range(1500, 2000)]\n",
    "for fname, dst_cat_name in zip(fnames, dst_cat_names):\n",
    "    src = os.path.join(original_dataset_dir, fname)\n",
    "    dst = os.path.join(test_dogs_dir, dst_cat_name)\n",
    "    if not os.path.exists(dst):\n",
    "        shutil.copyfile(src, dst)\n"
   ]
  },
  {
   "cell_type": "code",
   "execution_count": 6,
   "metadata": {},
   "outputs": [
    {
     "name": "stdout",
     "output_type": "stream",
     "text": [
      "total training cat images:  1000\n",
      "D:\\B__WorkSpace\\AI\\dl_project_cnn\\kagglecatsanddogs_small\\train\\cats\n"
     ]
    }
   ],
   "source": [
    "print('total training cat images: ', len(os.listdir(train_cats_dir)))\n",
    "print(train_cats_dir)"
   ]
  },
  {
   "cell_type": "code",
   "execution_count": 7,
   "metadata": {},
   "outputs": [
    {
     "name": "stdout",
     "output_type": "stream",
     "text": [
      "total training dog images: 1000\n"
     ]
    }
   ],
   "source": [
    "print('total training dog images:', len(os.listdir(train_dogs_dir)))"
   ]
  },
  {
   "cell_type": "code",
   "execution_count": 8,
   "metadata": {},
   "outputs": [
    {
     "name": "stdout",
     "output_type": "stream",
     "text": [
      "total validation cat images: 500\n"
     ]
    }
   ],
   "source": [
    "print('total validation cat images:', len(os.listdir(validation_cats_dir)))"
   ]
  },
  {
   "cell_type": "code",
   "execution_count": 9,
   "metadata": {},
   "outputs": [
    {
     "name": "stdout",
     "output_type": "stream",
     "text": [
      "total validation dog images: 500\n"
     ]
    }
   ],
   "source": [
    "print('total validation dog images:', len(os.listdir(validation_dogs_dir)))"
   ]
  },
  {
   "cell_type": "code",
   "execution_count": 10,
   "metadata": {},
   "outputs": [
    {
     "name": "stdout",
     "output_type": "stream",
     "text": [
      "total test cat images: 500\n"
     ]
    }
   ],
   "source": [
    "print('total test cat images:', len(os.listdir(test_cats_dir)))"
   ]
  },
  {
   "cell_type": "code",
   "execution_count": 11,
   "metadata": {},
   "outputs": [
    {
     "name": "stdout",
     "output_type": "stream",
     "text": [
      "total test dog images: 500\n"
     ]
    }
   ],
   "source": [
    "print('total test dog images:', len(os.listdir(test_dogs_dir)))"
   ]
  },
  {
   "cell_type": "markdown",
   "metadata": {},
   "source": [
    "Building network"
   ]
  },
  {
   "cell_type": "code",
   "execution_count": 12,
   "metadata": {},
   "outputs": [
    {
     "name": "stdout",
     "output_type": "stream",
     "text": [
      "Model: \"sequential\"\n",
      "_________________________________________________________________\n",
      "Layer (type)                 Output Shape              Param #   \n",
      "=================================================================\n",
      "conv2d (Conv2D)              (None, 148, 148, 32)      896       \n",
      "_________________________________________________________________\n",
      "max_pooling2d (MaxPooling2D) (None, 74, 74, 32)        0         \n",
      "_________________________________________________________________\n",
      "conv2d_1 (Conv2D)            (None, 72, 72, 64)        18496     \n",
      "_________________________________________________________________\n",
      "max_pooling2d_1 (MaxPooling2 (None, 36, 36, 64)        0         \n",
      "_________________________________________________________________\n",
      "conv2d_2 (Conv2D)            (None, 34, 34, 128)       73856     \n",
      "_________________________________________________________________\n",
      "max_pooling2d_2 (MaxPooling2 (None, 17, 17, 128)       0         \n",
      "_________________________________________________________________\n",
      "conv2d_3 (Conv2D)            (None, 15, 15, 128)       147584    \n",
      "_________________________________________________________________\n",
      "max_pooling2d_3 (MaxPooling2 (None, 7, 7, 128)         0         \n",
      "_________________________________________________________________\n",
      "flatten (Flatten)            (None, 6272)              0         \n",
      "_________________________________________________________________\n",
      "dense (Dense)                (None, 512)               3211776   \n",
      "_________________________________________________________________\n",
      "dense_1 (Dense)              (None, 1)                 513       \n",
      "=================================================================\n",
      "Total params: 3,453,121\n",
      "Trainable params: 3,453,121\n",
      "Non-trainable params: 0\n",
      "_________________________________________________________________\n"
     ]
    }
   ],
   "source": [
    "from tensorflow.keras import layers\n",
    "from tensorflow.keras import models\n",
    "\n",
    "\n",
    "model = models.Sequential()\n",
    "model.add(layers.Conv2D(32, (3, 3), activation='relu',\n",
    "                        input_shape=(150, 150, 3)))\n",
    "model.add(layers.MaxPooling2D((2, 2)))\n",
    "model.add(layers.Conv2D(64, (3, 3), activation='relu'))\n",
    "model.add(layers.MaxPooling2D(2, 2))\n",
    "model.add(layers.Conv2D(128, (3, 3), activation='relu'))\n",
    "model.add(layers.MaxPooling2D(2, 2))\n",
    "model.add(layers.Conv2D(128, (3, 3), activation='relu'))\n",
    "model.add(layers.MaxPooling2D(2, 2))\n",
    "model.add(layers.Flatten())\n",
    "model.add(layers.Dense(512, activation='relu'))\n",
    "model.add(layers.Dense(1, activation='sigmoid'))\n",
    "\n",
    "model.summary()"
   ]
  },
  {
   "cell_type": "markdown",
   "metadata": {},
   "source": [
    "Configuring model for training"
   ]
  },
  {
   "cell_type": "code",
   "execution_count": 14,
   "metadata": {},
   "outputs": [],
   "source": [
    "from tensorflow.keras import optimizers\n",
    "\n",
    "model.compile(loss='binary_crossentropy',\n",
    "             optimizer=optimizers.RMSprop(lr=1e-4),\n",
    "             matrics=['acc'])\n"
   ]
  },
  {
   "cell_type": "markdown",
   "metadata": {},
   "source": [
    "Data preprocessing\n",
    "\n",
    "Currently, our data sits on a drive as JPEG files, so the steps for getting it into our network are roughly:\n",
    "    \n",
    "    ->Read the picture files.\n",
    "    ->Decode the JPEG content to RBG grids of pixels.\n",
    "    ->Convert these into floating point tensors.\n",
    "    ->Rescale the pixel values (between 0 and 255) to the [0, 1] interval (as you know, neural\n",
    "    ->networks prefer to deal with small input values)."
   ]
  },
  {
   "cell_type": "code",
   "execution_count": 20,
   "metadata": {},
   "outputs": [
    {
     "name": "stdout",
     "output_type": "stream",
     "text": [
      "Found 2000 images belonging to 2 classes.\n",
      "Found 1000 images belonging to 2 classes.\n"
     ]
    }
   ],
   "source": [
    "# Using ImageDataGenerator to read images from directories\n",
    "# Data pre-processing\n",
    "from tensorflow.keras.preprocessing.image import ImageDataGenerator\n",
    "\n",
    "# All images will be rescaled by 1./255\n",
    "train_datagen = ImageDataGenerator(rescale=1./255)\n",
    "test_datagen = ImageDataGenerator(rescale=1./255)\n",
    "\n",
    "train_generator = train_datagen.flow_from_directory(\n",
    "    # This is the target directory\n",
    "    train_dir,\n",
    "    # All images will be resized to 150*150\n",
    "    target_size=(150, 150),\n",
    "    batch_size=20,\n",
    "    # Since using binary_crossentropy loss, need binary labels\n",
    "    class_mode='binary'\n",
    ")\n",
    "\n",
    "validation_generator = test_datagen.flow_from_directory(\n",
    "    validation_dir,\n",
    "    target_size=(150, 150),\n",
    "    batch_size=20,\n",
    "    class_mode='binary'\n",
    ")\n"
   ]
  },
  {
   "cell_type": "code",
   "execution_count": 22,
   "metadata": {},
   "outputs": [
    {
     "name": "stdout",
     "output_type": "stream",
     "text": [
      "data batch shape: (20, 150, 150, 3)\n",
      "labels batch shape : (20,)\n"
     ]
    }
   ],
   "source": [
    "for data_batch, labels_batch in train_generator:\n",
    "    print('data batch shape:', data_batch.shape)\n",
    "    print('labels batch shape :', labels_batch.shape)\n",
    "    break"
   ]
  },
  {
   "cell_type": "code",
   "execution_count": 26,
   "metadata": {},
   "outputs": [
    {
     "name": "stdout",
     "output_type": "stream",
     "text": [
      "Epoch 1/30\n",
      "100/100 [==============================] - 55s 550ms/step - loss: 0.6449 - val_loss: 0.6323\n",
      "Epoch 2/30\n",
      "100/100 [==============================] - 53s 534ms/step - loss: 0.5947 - val_loss: 0.6307\n",
      "Epoch 3/30\n",
      "100/100 [==============================] - 56s 559ms/step - loss: 0.5538 - val_loss: 0.6948\n",
      "Epoch 4/30\n",
      "100/100 [==============================] - 56s 557ms/step - loss: 0.5400 - val_loss: 0.5796\n",
      "Epoch 5/30\n",
      "100/100 [==============================] - 55s 553ms/step - loss: 0.5084 - val_loss: 0.6222\n",
      "Epoch 6/30\n",
      "100/100 [==============================] - 55s 550ms/step - loss: 0.4840 - val_loss: 0.5653\n",
      "Epoch 7/30\n",
      "100/100 [==============================] - 55s 551ms/step - loss: 0.4564 - val_loss: 0.5596\n",
      "Epoch 8/30\n",
      "100/100 [==============================] - 55s 547ms/step - loss: 0.4296 - val_loss: 0.6020\n",
      "Epoch 9/30\n",
      "100/100 [==============================] - 53s 534ms/step - loss: 0.4098 - val_loss: 0.5506\n",
      "Epoch 10/30\n",
      "100/100 [==============================] - 55s 550ms/step - loss: 0.3749 - val_loss: 0.5267\n",
      "Epoch 11/30\n",
      "100/100 [==============================] - 54s 540ms/step - loss: 0.3578 - val_loss: 0.5492\n",
      "Epoch 12/30\n",
      "100/100 [==============================] - 57s 573ms/step - loss: 0.3254 - val_loss: 0.5592\n",
      "Epoch 13/30\n",
      "100/100 [==============================] - 55s 552ms/step - loss: 0.3087 - val_loss: 0.5366\n",
      "Epoch 14/30\n",
      "100/100 [==============================] - 53s 535ms/step - loss: 0.2821 - val_loss: 0.5447\n",
      "Epoch 15/30\n",
      "100/100 [==============================] - 54s 537ms/step - loss: 0.2625 - val_loss: 0.5671\n",
      "Epoch 16/30\n",
      "100/100 [==============================] - 57s 572ms/step - loss: 0.2373 - val_loss: 0.6005\n",
      "Epoch 17/30\n",
      "100/100 [==============================] - 60s 603ms/step - loss: 0.2197 - val_loss: 0.5841\n",
      "Epoch 18/30\n",
      "100/100 [==============================] - 50s 502ms/step - loss: 0.1985 - val_loss: 0.6344\n",
      "Epoch 19/30\n",
      "100/100 [==============================] - 51s 512ms/step - loss: 0.1725 - val_loss: 0.6090\n",
      "Epoch 20/30\n",
      "100/100 [==============================] - 49s 494ms/step - loss: 0.1505 - val_loss: 0.6584\n",
      "Epoch 21/30\n",
      "100/100 [==============================] - 54s 538ms/step - loss: 0.1309 - val_loss: 0.6590\n",
      "Epoch 22/30\n",
      "100/100 [==============================] - 56s 557ms/step - loss: 0.1178 - val_loss: 0.6905\n",
      "Epoch 23/30\n",
      "100/100 [==============================] - 51s 506ms/step - loss: 0.1069 - val_loss: 0.8572\n",
      "Epoch 24/30\n",
      "100/100 [==============================] - 51s 513ms/step - loss: 0.0885 - val_loss: 0.7564\n",
      "Epoch 25/30\n",
      "100/100 [==============================] - 51s 511ms/step - loss: 0.0759 - val_loss: 0.8279\n",
      "Epoch 26/30\n",
      "100/100 [==============================] - 48s 484ms/step - loss: 0.0701 - val_loss: 0.7659\n",
      "Epoch 27/30\n",
      "100/100 [==============================] - 49s 489ms/step - loss: 0.0554 - val_loss: 0.8347\n",
      "Epoch 28/30\n",
      "100/100 [==============================] - 49s 486ms/step - loss: 0.0555 - val_loss: 0.8374\n",
      "Epoch 29/30\n",
      "100/100 [==============================] - 51s 508ms/step - loss: 0.0372 - val_loss: 0.8970\n",
      "Epoch 30/30\n",
      "100/100 [==============================] - 51s 512ms/step - loss: 0.0351 - val_loss: 0.9460\n"
     ]
    }
   ],
   "source": [
    "history = model.fit_generator(\n",
    "    train_generator,\n",
    "    steps_per_epoch=100,\n",
    "    epochs=30,\n",
    "    validation_data=validation_generator,\n",
    "    validation_steps=50\n",
    "    )"
   ]
  },
  {
   "cell_type": "code",
   "execution_count": 27,
   "metadata": {},
   "outputs": [
    {
     "name": "stdout",
     "output_type": "stream",
     "text": [
      "Model: \"sequential\"\n",
      "_________________________________________________________________\n",
      "Layer (type)                 Output Shape              Param #   \n",
      "=================================================================\n",
      "conv2d (Conv2D)              (None, 148, 148, 32)      896       \n",
      "_________________________________________________________________\n",
      "max_pooling2d (MaxPooling2D) (None, 74, 74, 32)        0         \n",
      "_________________________________________________________________\n",
      "conv2d_1 (Conv2D)            (None, 72, 72, 64)        18496     \n",
      "_________________________________________________________________\n",
      "max_pooling2d_1 (MaxPooling2 (None, 36, 36, 64)        0         \n",
      "_________________________________________________________________\n",
      "conv2d_2 (Conv2D)            (None, 34, 34, 128)       73856     \n",
      "_________________________________________________________________\n",
      "max_pooling2d_2 (MaxPooling2 (None, 17, 17, 128)       0         \n",
      "_________________________________________________________________\n",
      "conv2d_3 (Conv2D)            (None, 15, 15, 128)       147584    \n",
      "_________________________________________________________________\n",
      "max_pooling2d_3 (MaxPooling2 (None, 7, 7, 128)         0         \n",
      "_________________________________________________________________\n",
      "flatten (Flatten)            (None, 6272)              0         \n",
      "_________________________________________________________________\n",
      "dense (Dense)                (None, 512)               3211776   \n",
      "_________________________________________________________________\n",
      "dense_1 (Dense)              (None, 1)                 513       \n",
      "=================================================================\n",
      "Total params: 3,453,121\n",
      "Trainable params: 3,453,121\n",
      "Non-trainable params: 0\n",
      "_________________________________________________________________\n"
     ]
    }
   ],
   "source": [
    "model.summary()"
   ]
  },
  {
   "cell_type": "markdown",
   "metadata": {},
   "source": [
    "Saving model"
   ]
  },
  {
   "cell_type": "code",
   "execution_count": 25,
   "metadata": {},
   "outputs": [],
   "source": [
    "model.save('cats_and_dogs_small_1.h5')"
   ]
  },
  {
   "cell_type": "markdown",
   "metadata": {},
   "source": [
    "Displaying curves of loss and accuracy during training"
   ]
  },
  {
   "cell_type": "code",
   "execution_count": 34,
   "metadata": {},
   "outputs": [
    {
     "name": "stdout",
     "output_type": "stream",
     "text": [
      "dict_keys(['loss', 'val_loss'])\n"
     ]
    }
   ],
   "source": [
    "history_dict = history.history\n",
    "print(history_dict.keys())"
   ]
  },
  {
   "cell_type": "code",
   "execution_count": 40,
   "metadata": {},
   "outputs": [
    {
     "data": {
      "image/png": "[encoded data removed]",
      "text/plain": [
       "<Figure size 432x288 with 1 Axes>"
      ]
     },
     "metadata": {
      "needs_background": "light"
     },
     "output_type": "display_data"
    }
   ],
   "source": [
    "import matplotlib.pyplot as plt\n",
    "\n",
    "# acc = history.history['accuracy']\n",
    "# val_acc = history.history['val_accuracy']\n",
    "loss = history.history['loss']\n",
    "val_loss = history.history['val_loss']\n",
    "\n",
    "epochs = range(1, len(loss)+1)\n",
    "\n",
    "# plt.subplot(2, 1, 1)\n",
    "# plt.plot(epochs, acc, 'bo', label='training_accuracy')\n",
    "# plt.plot(epochs, val_acc, 'b', label='validation_accuracy')\n",
    "# plt.legend()\n",
    "# plt.figure()\n",
    "\n",
    "#plt.subplot(2, 1, 2)\n",
    "plt.plot(epochs, loss, 'bo', label='loss')\n",
    "plt.plot(epochs, val_loss, 'b', label='val_loss')\n",
    "plt.title('show loss and val_loss of cats_and_dogs classifiction model')\n",
    "plt.xlabel('epochs')\n",
    "plt.legend()\n",
    "plt.show()"
   ]
  },
  {
   "cell_type": "markdown",
   "metadata": {},
   "source": [
    "Setting up a data augmentation configuration via ImageDataGenerator"
   ]
  },
  {
   "cell_type": "code",
   "execution_count": null,
   "metadata": {},
   "outputs": [],
   "source": [
    "datagen = ImageDataGenerator(\n",
    "        rotation_range=40,\n",
    "        width_shift_range=0.2,\n",
    "        height_shift_range=0.2,\n",
    "        shear_range=0.2,\n",
    "        zoom_range=0.2,\n",
    "        horizontal_flip=True,\n",
    "        fill_mode='nearest')"
   ]
  },
  {
   "cell_type": "code",
   "execution_count": null,
   "metadata": {},
   "outputs": [],
   "source": [
    "import tensorflow as tf\n",
    "tf.config.list_physical_devices('GPU')\n",
    "# gpu_device_name = tf.test.gpu_device_name()\n",
    "# print(gpu_device_name)\n",
    "\n",
    "# # 返回True或者False\n",
    "# tf.test.is_gpu_available()"
   ]
  },
  {
   "cell_type": "code",
   "execution_count": 8,
   "metadata": {},
   "outputs": [
    {
     "name": "stdout",
     "output_type": "stream",
     "text": [
      "[] [PhysicalDevice(name='/physical_device:CPU:0', device_type='CPU')]\n"
     ]
    }
   ],
   "source": [
    "import tensorflow as tf\n",
    "from tensorflow.python.client import device_lib\n",
    "\n",
    "# 列出所有的本地机器设备\n",
    "local_device_protos = device_lib.list_local_devices()\n",
    "# 打印\n",
    "#     print(local_device_protos)\n",
    "\n",
    "# 只打印GPU设备\n",
    "[print(x) for x in local_device_protos if x.device_type == 'GPU']\n",
    "gpus = tf.config.experimental.list_physical_devices(device_type='GPU')\n",
    "cpus = tf.config.experimental.list_physical_devices(device_type='CPU')\n",
    "print(gpus, cpus)"
   ]
  },
  {
   "cell_type": "code",
   "execution_count": 9,
   "metadata": {},
   "outputs": [
    {
     "name": "stdout",
     "output_type": "stream",
     "text": [
      "Num GPUs Available:  0\n"
     ]
    }
   ],
   "source": [
    "print(\"Num GPUs Available: \", len(tf.config.experimental.list_physical_devices('GPU')))"
   ]
  },
  {
   "cell_type": "code",
   "execution_count": null,
   "metadata": {},
   "outputs": [],
   "source": []
  }
 ],
 "metadata": {
  "kernelspec": {
   "display_name": "tensorflow-gpu-env",
   "language": "python",
   "name": "tensorflow-gpu-env"
  },
  "language_info": {
   "codemirror_mode": {
    "name": "ipython",
    "version": 3
   },
   "file_extension": ".py",
   "mimetype": "text/x-python",
   "name": "python",
   "nbconvert_exporter": "python",
   "pygments_lexer": "ipython3",
   "version": "3.7.6"
  }
 },
 "nbformat": 4,
 "nbformat_minor": 4
}
