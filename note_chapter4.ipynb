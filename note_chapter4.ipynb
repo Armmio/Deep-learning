{
 "cells": [
  {
   "cell_type": "code",
   "execution_count": 1,
   "metadata": {},
   "outputs": [
    {
     "ename": "SyntaxError",
     "evalue": "invalid syntax (<ipython-input-1-84ba32956025>, line 7)",
     "output_type": "error",
     "traceback": [
      "\u001b[1;36m  File \u001b[1;32m\"<ipython-input-1-84ba32956025>\"\u001b[1;36m, line \u001b[1;32m7\u001b[0m\n\u001b[1;33m    data = [num_validation_samples:]\u001b[0m\n\u001b[1;37m                                  ^\u001b[0m\n\u001b[1;31mSyntaxError\u001b[0m\u001b[1;31m:\u001b[0m invalid syntax\n"
     ]
    }
   ],
   "source": [
    "# Hold-out validation\n",
    "num_validation_samples = 10000\n",
    "# Shuffling the data is usually appropriate\n",
    "np.random.shuffle(data)\n",
    "# Define the validation set\n",
    "validation_data = data[:num_validation_samples]\n",
    "data = [num_validation_samples:]\n",
    "# Define the training set\n",
    "training_data = data[:]\n",
    "# Train a model on the training data\n",
    "# and evaluate it on the validation data\n",
    "model = get_model()\n",
    "model.train(training_data)\n",
    "validation_score = model.evaluate(validation_data)\n",
    "# At this point you can tune your model,\n",
    "# retrain it, evaluate it, tune it again...\n",
    "# Once you have tuned your hyperparameters,\n",
    "# is it common to train your final model from scratch\n",
    "# on all non-test data available.\n",
    "model = get_model()\n",
    "model.train(np.concatenate([training_data,\n",
    "validation_data]))\n",
    "test_score = model.evaluate(test_data)"
   ]
  },
  {
   "cell_type": "code",
   "execution_count": null,
   "metadata": {},
   "outputs": [],
   "source": [
    "# K-fold cross-validation\n",
    "k = 4\n",
    "num_validation_samples = len(data) // k\n",
    "np.random.shuffle(data)\n",
    "validation_scores = []\n",
    "for fold in range(k):\n",
    "# Select the validation data partition\n",
    "validation_data = data[num_validation_samples * fold: num_validation_samples * (fold + 1)]\n",
    "# The remainder of the data is used as training data.\n",
    "# Note that the \"+\" operator below is list concatenation, not summation\n",
    "training_data = data[:num_validation_samples * fold] + data[num_validation_samples * (fold + 1):]\n",
    "# Create a brand new instance of our model (untrained)\n",
    "model = get_model()\n",
    "model.train(training_data)\n",
    "validation_score = model.evaluate(validation_data)\n",
    "validation_scores.append(validation_score)\n",
    "# This is our validation score:\n",
    "# the average of the validation scores of our k folds\n",
    "validation_score = np.average(validation_scores)\n",
    "# We train our final model on all non-test data available\n",
    "model = get_model()\n",
    "model.train(data)\n",
    "test_score = model.evaluate(test_data)"
   ]
  }
 ],
 "metadata": {
  "kernelspec": {
   "display_name": "Python 3",
   "language": "python",
   "name": "python3"
  },
  "language_info": {
   "codemirror_mode": {
    "name": "ipython",
    "version": 3
   },
   "file_extension": ".py",
   "mimetype": "text/x-python",
   "name": "python",
   "nbconvert_exporter": "python",
   "pygments_lexer": "ipython3",
   "version": "3.7.6"
  }
 },
 "nbformat": 4,
 "nbformat_minor": 4
}
